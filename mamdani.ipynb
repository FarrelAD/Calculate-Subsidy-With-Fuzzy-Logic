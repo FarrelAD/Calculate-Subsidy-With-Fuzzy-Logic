{
  "nbformat": 4,
  "nbformat_minor": 0,
  "metadata": {
    "colab": {
      "provenance": [],
      "authorship_tag": "ABX9TyP2ZzUAHyo8uwk/uH4nXP79",
      "include_colab_link": true
    },
    "kernelspec": {
      "name": "python3",
      "display_name": "Python 3"
    },
    "language_info": {
      "name": "python"
    }
  },
  "cells": [
    {
      "cell_type": "markdown",
      "metadata": {
        "id": "view-in-github",
        "colab_type": "text"
      },
      "source": [
        "<a href=\"https://colab.research.google.com/github/FarrelAD/Calculate-Subsidy-With-Fuzzy-Logic/blob/main/mamdani.ipynb\" target=\"_parent\"><img src=\"https://colab.research.google.com/assets/colab-badge.svg\" alt=\"Open In Colab\"/></a>"
      ]
    },
    {
      "cell_type": "code",
      "execution_count": 1,
      "metadata": {
        "colab": {
          "base_uri": "https://localhost:8080/"
        },
        "id": "caYaUALvoizo",
        "outputId": "a85b92e7-ece1-43ce-b570-ffab0a40b9bb"
      },
      "outputs": [
        {
          "output_type": "stream",
          "name": "stdout",
          "text": [
            "This is a notebook for mamdani\n"
          ]
        }
      ],
      "source": [
        "print('This is a notebook for mamdani')"
      ]
    }
  ]
}